{
 "cells": [
  {
   "cell_type": "code",
   "execution_count": 78,
   "id": "876c345c",
   "metadata": {},
   "outputs": [],
   "source": [
    "#import libraries\n",
    "from bs4 import BeautifulSoup\n",
    "import requests\n",
    "import smtplib\n",
    "import time\n",
    "import datetime\n",
    "import re"
   ]
  },
  {
   "cell_type": "code",
   "execution_count": 74,
   "id": "6743831a",
   "metadata": {},
   "outputs": [
    {
     "name": "stdout",
     "output_type": "stream",
     "text": [
      "        Straight Talk Apple iPhone 7 32GB - Silver- Fully Unlocked (Renewed)       \n",
      "\n",
      "\n",
      "\n",
      "                Model Name\n",
      "               \n",
      "\n",
      "\n",
      "\n",
      "                iPhone 7\n",
      "               \n",
      "\n",
      "\n"
     ]
    }
   ],
   "source": [
    "# Connect to Website and pull in data\n",
    "\n",
    "#URL = 'https://www.amazon.com/Funny-Data-Systems-Business-Analyst/dp/B07FNW9FGJ/ref=sr_1_3?dchild=1&keywords=data%2Banalyst%2Btshirt&qid=1626655184&sr=8-3&customId=B0752XJYNL&th=1'\n",
    "URL = 'https://www.amazon.com/Straight-Talk-Apple-iPhone-32GB/dp/B0CM222R21/ref=sr_1_14?crid=71RHGNS84MQZ&keywords=iphone&qid=1700365235&sprefix=iphon%2Caps%2C497&sr=8-14'\n",
    "#headers = {\"User-Agent\": \"Mozilla/5.0 (Macintosh; Intel Mac OS X 10_15_7) AppleWebKit/537.36 (KHTML, like Gecko) Chrome/119.0.0.0 Safari/537.36\"}\n",
    "#Headers are used to provide essential information about the client making a web request, and omitting them or providing inaccurate headers can lead to issues like blocked requests or incorrect server responses.\n",
    "page = requests.get(URL)#getting the data\n",
    "\n",
    "soup1 = BeautifulSoup(page.content, \"html.parser\")#pulling the content from the page\n",
    "\n",
    "soup2 = BeautifulSoup(soup1.prettify(), \"html.parser\")#better format\n",
    "\n",
    "title = soup1.find(id='productTitle').get_text()\n",
    "#price = soup1.find(id='a-offscreen').get_text()\n",
    "#don't know but i couldn't can' get the price\n",
    "\n",
    "model = soup2.find('tr', class_='a-spacing-small po-model_name').get_text()\n",
    "\n",
    "print(title)\n",
    "print(model)\n"
   ]
  },
  {
   "cell_type": "code",
   "execution_count": 81,
   "id": "4ebe9e68",
   "metadata": {},
   "outputs": [
    {
     "name": "stdout",
     "output_type": "stream",
     "text": [
      "Model Name iPhone 7\n",
      "Straight Talk Apple iPhone 7 32GB - Silver- Fully Unlocked (Renewed)\n",
      "iPhone 7\n"
     ]
    }
   ],
   "source": [
    "#clean up the data\n",
    "title = title.strip()\n",
    "model= model.strip()\n",
    "new_model = re.sub(r'\\s+', ' ', model)\n",
    "print(new_model)\n",
    "words = new_model.split()  # Split the string into a list of words\n",
    "model1 = ' '.join(words[2:])  # Join the words starting from the third word\n",
    "print(title)\n",
    "print(model1)"
   ]
  },
  {
   "cell_type": "code",
   "execution_count": 28,
   "id": "b187a23c",
   "metadata": {},
   "outputs": [
    {
     "name": "stdout",
     "output_type": "stream",
     "text": [
      "2023-11-19\n"
     ]
    }
   ],
   "source": [
    "# Create a Timestamp for your output to track when data was collected\n",
    "\n",
    "import datetime\n",
    "\n",
    "today = datetime.date.today()\n",
    "\n",
    "print(today)"
   ]
  },
  {
   "cell_type": "code",
   "execution_count": 86,
   "id": "5463a46b",
   "metadata": {},
   "outputs": [],
   "source": [
    "# Create CSV and write headers and data into the file\n",
    "\n",
    "import csv \n",
    "\n",
    "header = ['Title', 'model1', 'Date']\n",
    "data = [title, model1, today]\n",
    "\n",
    "\n",
    "with open('AmazonWebScraperDataset.csv', 'w', newline='', encoding='UTF8') as f:\n",
    "    writer = csv.writer(f)\n",
    "    writer.writerow(header)\n",
    "    writer.writerow(data)\n",
    "    "
   ]
  },
  {
   "cell_type": "code",
   "execution_count": 87,
   "id": "2e15e658",
   "metadata": {},
   "outputs": [
    {
     "name": "stdout",
     "output_type": "stream",
     "text": [
      "                                               Title    model1        Date\n",
      "0  Straight Talk Apple iPhone 7 32GB - Silver- Fu...  iPhone 7  2023-11-19\n"
     ]
    }
   ],
   "source": [
    "import pandas as pd\n",
    "\n",
    "df = pd.read_csv(r'/Users/aayushshrestha/Desktop/data_analytics/AmazonWebScraperDataset.csv')\n",
    "\n",
    "print(df)"
   ]
  },
  {
   "cell_type": "code",
   "execution_count": 93,
   "id": "07202829",
   "metadata": {},
   "outputs": [],
   "source": [
    "#Combine all of the above code into one function\n",
    "\n",
    "\n",
    "def check_model():\n",
    "    URL = 'https://www.amazon.com/Straight-Talk-Apple-iPhone-32GB/dp/B0CM222R21/ref=sr_1_14?crid=71RHGNS84MQZ&keywords=iphone&qid=1700365235&sprefix=iphon%2Caps%2C497&sr=8-14'\n",
    "\n",
    "    #headers = {\"User-Agent\": \"Mozilla/5.0 (Windows NT 10.0; Win64; x64) AppleWebKit/537.36 (KHTML, like Gecko) Chrome/78.0.3904.108 Safari/537.36\", \"Accept-Encoding\":\"gzip, deflate\", \"Accept\":\"text/html,application/xhtml+xml,application/xml;q=0.9,*/*;q=0.8\", \"DNT\":\"1\",\"Connection\":\"close\", \"Upgrade-Insecure-Requests\":\"1\"}\n",
    "\n",
    "    page = requests.get(URL)#getting the data\n",
    "\n",
    "    soup1 = BeautifulSoup(page.content, \"html.parser\")#pulling the content from the page\n",
    "\n",
    "    soup2 = BeautifulSoup(soup1.prettify(), \"html.parser\")#better format\n",
    "\n",
    "    title = soup1.find(id='productTitle').get_text()\n",
    "\n",
    "    model = soup2.find('tr', class_='a-spacing-small po-model_name').get_text()\n",
    "    \n",
    "    title = title.strip()\n",
    "    model= model.strip()\n",
    "    new_model = re.sub(r'\\s+', ' ', model)\n",
    "    words = new_model.split()  # Split the string into a list of words\n",
    "    model1 = ' '.join(words[2:])  # Join the words starting from the third word\n",
    "    \n",
    "    import datetime\n",
    "\n",
    "    today = datetime.date.today()\n",
    "    \n",
    "    import csv \n",
    "\n",
    "    header = ['Title', 'model1', 'Date']\n",
    "    data = [title, model1, today]\n",
    "\n",
    "\n",
    "    with open('AmazonWebScraperDataset.csv', 'w', newline='', encoding='UTF8') as f:\n",
    "        writer = csv.writer(f)\n",
    "        writer.writerow(header)\n",
    "        writer.writerow(data)\n",
    " "
   ]
  },
  {
   "cell_type": "code",
   "execution_count": 97,
   "id": "6360bc90",
   "metadata": {},
   "outputs": [
    {
     "name": "stdout",
     "output_type": "stream",
     "text": [
      "csv created successfully\n"
     ]
    }
   ],
   "source": [
    "# Runs check_price after a set time and inputs data into your CSV\n",
    "\n",
    "while(True):\n",
    "    check_model()\n",
    "    print(\"csv created successfully\")\n",
    "    break\n"
   ]
  },
  {
   "cell_type": "code",
   "execution_count": 98,
   "id": "834c5900",
   "metadata": {},
   "outputs": [
    {
     "name": "stdout",
     "output_type": "stream",
     "text": [
      "                                               Title    model1        Date\n",
      "0  Straight Talk Apple iPhone 7 32GB - Silver- Fu...  iPhone 7  2023-11-19\n"
     ]
    }
   ],
   "source": [
    "import pandas as pd\n",
    "\n",
    "df = pd.read_csv(r'/Users/aayushshrestha/Desktop/data_analytics/AmazonWebScraperDataset.csv')\n",
    "\n",
    "print(df)"
   ]
  },
  {
   "cell_type": "code",
   "execution_count": null,
   "id": "914af0be",
   "metadata": {},
   "outputs": [],
   "source": []
  },
  {
   "cell_type": "code",
   "execution_count": null,
   "id": "87f090ff",
   "metadata": {},
   "outputs": [],
   "source": []
  },
  {
   "cell_type": "code",
   "execution_count": null,
   "id": "355efbe7",
   "metadata": {},
   "outputs": [],
   "source": []
  },
  {
   "cell_type": "code",
   "execution_count": null,
   "id": "0366abc1",
   "metadata": {},
   "outputs": [],
   "source": []
  }
 ],
 "metadata": {
  "kernelspec": {
   "display_name": "Python 3 (ipykernel)",
   "language": "python",
   "name": "python3"
  },
  "language_info": {
   "codemirror_mode": {
    "name": "ipython",
    "version": 3
   },
   "file_extension": ".py",
   "mimetype": "text/x-python",
   "name": "python",
   "nbconvert_exporter": "python",
   "pygments_lexer": "ipython3",
   "version": "3.10.9"
  }
 },
 "nbformat": 4,
 "nbformat_minor": 5
}
